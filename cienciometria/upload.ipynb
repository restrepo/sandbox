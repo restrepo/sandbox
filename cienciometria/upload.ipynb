{
  "nbformat": 4,
  "nbformat_minor": 0,
  "metadata": {
    "colab": {
      "name": "wosplus.ipynb",
      "version": "0.3.2",
      "provenance": [],
      "include_colab_link": true
    },
    "kernelspec": {
      "display_name": "Python 3",
      "language": "python",
      "name": "python3"
    }
  },
  "cells": [
    {
      "cell_type": "markdown",
      "metadata": {
        "id": "view-in-github",
        "colab_type": "text"
      },
      "source": [
        "[View in Colaboratory](https://colab.research.google.com/github/restrepo/sandbox/blob/master/cienciometria/upload.ipynb)"
      ]
    },
    {
      "metadata": {
        "id": "aDnqho-CsEwj",
        "colab_type": "text"
      },
      "cell_type": "markdown",
      "source": [
        "# WOSPlus\n",
        "Manage Web of Science txt files and merge with other bibliographic datasets."
      ]
    },
    {
      "metadata": {
        "id": "9Hnin1fosRB_",
        "colab_type": "code",
        "colab": {}
      },
      "cell_type": "code",
      "source": [
        "!pip install wosplus openpyxl xlrd > /dev/null"
      ],
      "execution_count": 0,
      "outputs": []
    },
    {
      "metadata": {
        "id": "wmQ_TErin0tp",
        "colab_type": "code",
        "colab": {}
      },
      "cell_type": "code",
      "source": [
        "def future_download_public_drive_file(file=None,id='1snzdsa-RLwYIf8MUffauaD2ZjNr1U2Os'):\n",
        "    '''\n",
        "    Download file from Google Drive public id\n",
        "    If \n",
        "      file=None\n",
        "    returns: \n",
        "      * File object for a binary file\n",
        "        Example: \n",
        "          txt=future_download_public_drive_file()\n",
        "          print(txt[:2])\n",
        "          #OR\n",
        "          with open('kk.txt', 'w') as f:\n",
        "             f.write(txt)\n",
        "      * String for a txt file\n",
        "        Example:\n",
        "          import pandas as pd\n",
        "          pd.read_excel(  future_download_public_drive_file(id='0BxoOXsn2EUNIMldPUFlwNkdLOTQ')  )[:1]\n",
        "    \n",
        "    '''\n",
        "    import requests as r\n",
        "    import io\n",
        "    CHUNK_SIZE = 32768\n",
        "    \n",
        "    response=r.get('https://docs.google.com/uc?export=download&id='+id)\n",
        "\n",
        "    if file:\n",
        "        with open(file, 'wb') as f:\n",
        "            f.write(response.content)\n",
        "        return\n",
        "    else:\n",
        "        chunks=b''\n",
        "        for chunk in response.iter_content(CHUNK_SIZE):\n",
        "            if chunk: # filter out keep-alive new chunks\n",
        "                    chunks=chunks+chunk\n",
        "\n",
        "        try: \n",
        "            ior=io.StringIO(chunks.decode()).read()\n",
        "        except  UnicodeDecodeError:\n",
        "            ior=io.BytesIO(chunks)\n",
        "\n",
        "        # returns the file object\n",
        "        return ior"
      ],
      "execution_count": 0,
      "outputs": []
    },
    {
      "metadata": {
        "id": "nhk2ZGEDd2Yo",
        "colab_type": "code",
        "colab": {}
      },
      "cell_type": "code",
      "source": [
        "import wosplus as wp"
      ],
      "execution_count": 0,
      "outputs": []
    },
    {
      "metadata": {
        "id": "8SUNt-E6J7jp",
        "colab_type": "text"
      },
      "cell_type": "markdown",
      "source": [
        "\n",
        "##  WOS"
      ]
    },
    {
      "metadata": {
        "id": "azAXfmSHsEw9",
        "colab_type": "text"
      },
      "cell_type": "markdown",
      "source": [
        "###  Configure public links for filies in Google Drive\n",
        "* If it is a Google Spreadsheet the corresponding file is downloades as CSV\n",
        "\"\" If it is in excel or text file the file is downloades directly\n",
        "\n",
        "We can define your own labeled IDs, either through the default 'drive.cfg' file before the import of the module,\n",
        "or by using your own configuration file after the import:"
      ]
    },
    {
      "metadata": {
        "id": "EAvrGoZEsEw9",
        "colab_type": "code",
        "colab": {
          "base_uri": "https://localhost:8080/",
          "height": 34
        },
        "outputId": "9ec37c0f-cd7d-492f-e7ba-6e910beb4bcf"
      },
      "cell_type": "code",
      "source": [
        "%%writefile drive.cfg\n",
        "[FILES]\n",
        "Sample_WOS.xlsx  = 0BxoOXsn2EUNIMldPUFlwNkdLOTQ\n",
        "Sample_WOS.txt   = 12CtQ_SI2OHrvj_etKpqriGsGoVvv9zkL\n",
        "savedrecs01.txt  = 1snzdsa-RLwYIf8MUffauaD2ZjNr1U2Os"
      ],
      "execution_count": 23,
      "outputs": [
        {
          "output_type": "stream",
          "text": [
            "Writing drive.cfg\n"
          ],
          "name": "stdout"
        }
      ]
    },
    {
      "metadata": {
        "id": "fu0iEVxVM0rf",
        "colab_type": "code",
        "colab": {}
      },
      "cell_type": "code",
      "source": [
        "WOS=wp.wosplus('drive.cfg')"
      ],
      "execution_count": 0,
      "outputs": []
    },
    {
      "metadata": {
        "id": "yHL3g4pdsExG",
        "colab_type": "text"
      },
      "cell_type": "markdown",
      "source": [
        "##  Load full files from Team Drives"
      ]
    },
    {
      "metadata": {
        "id": "QGclNSZnLTZD",
        "colab_type": "code",
        "colab": {
          "base_uri": "https://localhost:8080/",
          "height": 122
        },
        "outputId": "cbeb386a-a6ff-40d1-dc78-f6f7eff7e8b5"
      },
      "cell_type": "code",
      "source": [
        "# Load the Drive helper and mount\n",
        "from google.colab import drive\n",
        "\n",
        "# This will prompt for authorization.\n",
        "drive.mount('/content/drive')"
      ],
      "execution_count": 17,
      "outputs": [
        {
          "output_type": "stream",
          "text": [
            "Go to this URL in a browser: https://accounts.google.com/o/oauth2/auth?client_id=947318989803-6bn6qk8qdgf4n4g3pfee6491hc0brc4i.apps.googleusercontent.com&redirect_uri=urn%3Aietf%3Awg%3Aoauth%3A2.0%3Aoob&scope=email%20https%3A%2F%2Fwww.googleapis.com%2Fauth%2Fdocs.test%20https%3A%2F%2Fwww.googleapis.com%2Fauth%2Fdrive%20https%3A%2F%2Fwww.googleapis.com%2Fauth%2Fdrive.photos.readonly%20https%3A%2F%2Fwww.googleapis.com%2Fauth%2Fpeopleapi.readonly&response_type=code\n",
            "\n",
            "Enter your authorization code:\n",
            "··········\n",
            "Mounted at /content/drive\n"
          ],
          "name": "stdout"
        }
      ]
    },
    {
      "metadata": {
        "id": "tEHS1wEtMazN",
        "colab_type": "code",
        "colab": {}
      },
      "cell_type": "code",
      "source": [
        "home='drive/Team Drives/Medición Capacidades Vinculación UDEA/06. Cienciometría/1. Descargas/1. Web of Science/1. UDEA/'\n",
        "filetxt=[\"{}savedrecs.txt\".format(home)]"
      ],
      "execution_count": 0,
      "outputs": []
    },
    {
      "metadata": {
        "id": "LPdk-tBwMrVS",
        "colab_type": "code",
        "colab": {
          "base_uri": "https://localhost:8080/",
          "height": 174
        },
        "outputId": "0056407c-edef-41a6-ef0a-b8c810e7ff50"
      },
      "cell_type": "code",
      "source": [
        "i=0\n",
        "WOS.load_biblio(filetxt[i])\n",
        "WOS.WOS[:2]"
      ],
      "execution_count": 25,
      "outputs": [
        {
          "output_type": "execute_result",
          "data": {
            "text/html": [
              "<div>\n",
              "<style scoped>\n",
              "    .dataframe tbody tr th:only-of-type {\n",
              "        vertical-align: middle;\n",
              "    }\n",
              "\n",
              "    .dataframe tbody tr th {\n",
              "        vertical-align: top;\n",
              "    }\n",
              "\n",
              "    .dataframe thead th {\n",
              "        text-align: right;\n",
              "    }\n",
              "</style>\n",
              "<table border=\"1\" class=\"dataframe\">\n",
              "  <thead>\n",
              "    <tr style=\"text-align: right;\">\n",
              "      <th></th>\n",
              "      <th>AB</th>\n",
              "      <th>AF</th>\n",
              "      <th>AR</th>\n",
              "      <th>AU</th>\n",
              "      <th>C1</th>\n",
              "      <th>CR</th>\n",
              "      <th>DA</th>\n",
              "      <th>DE</th>\n",
              "      <th>DI</th>\n",
              "      <th>DT</th>\n",
              "      <th>...</th>\n",
              "      <th>SI</th>\n",
              "      <th>SP</th>\n",
              "      <th>PM</th>\n",
              "      <th>OA</th>\n",
              "      <th>RI</th>\n",
              "      <th>MA</th>\n",
              "      <th>SU</th>\n",
              "      <th>PN</th>\n",
              "      <th>CA</th>\n",
              "      <th>Tipo</th>\n",
              "    </tr>\n",
              "  </thead>\n",
              "  <tbody>\n",
              "    <tr>\n",
              "      <th>0</th>\n",
              "      <td></td>\n",
              "      <td>Burwick, Richard M.\\nVelasquez, Jesus A.\\nVale...</td>\n",
              "      <td></td>\n",
              "      <td>Burwick, RM\\nVelasquez, JA\\nValencia, CM\\nBern...</td>\n",
              "      <td>[Burwick, Richard M.; Tolosa, Jorge E.] Oregon...</td>\n",
              "      <td></td>\n",
              "      <td>2018-02-15\\n</td>\n",
              "      <td></td>\n",
              "      <td></td>\n",
              "      <td>Meeting Abstract\\n</td>\n",
              "      <td>...</td>\n",
              "      <td></td>\n",
              "      <td>Soc Maternal Fetal Med\\n</td>\n",
              "      <td></td>\n",
              "      <td></td>\n",
              "      <td></td>\n",
              "      <td>306\\n</td>\n",
              "      <td>S\\n</td>\n",
              "      <td></td>\n",
              "      <td></td>\n",
              "      <td>WOS</td>\n",
              "    </tr>\n",
              "    <tr>\n",
              "      <th>1</th>\n",
              "      <td></td>\n",
              "      <td>Burwick, Richard M.\\nVelasquez, Jesus A.\\nVale...</td>\n",
              "      <td></td>\n",
              "      <td>Burwick, RM\\nVelasquez, JA\\nValencia, CM\\nSilv...</td>\n",
              "      <td>[Burwick, Richard M.; Rincon, Monica; Tolosa, ...</td>\n",
              "      <td></td>\n",
              "      <td>2018-02-15\\n</td>\n",
              "      <td></td>\n",
              "      <td></td>\n",
              "      <td>Meeting Abstract\\n</td>\n",
              "      <td>...</td>\n",
              "      <td></td>\n",
              "      <td>Soc Maternal Fetal Med\\n</td>\n",
              "      <td></td>\n",
              "      <td></td>\n",
              "      <td></td>\n",
              "      <td>305\\n</td>\n",
              "      <td>S\\n</td>\n",
              "      <td></td>\n",
              "      <td></td>\n",
              "      <td>WOS</td>\n",
              "    </tr>\n",
              "  </tbody>\n",
              "</table>\n",
              "<p>2 rows × 56 columns</p>\n",
              "</div>"
            ],
            "text/plain": [
              "  AB                                                 AF AR  \\\n",
              "0     Burwick, Richard M.\\nVelasquez, Jesus A.\\nVale...      \n",
              "1     Burwick, Richard M.\\nVelasquez, Jesus A.\\nVale...      \n",
              "\n",
              "                                                  AU  \\\n",
              "0  Burwick, RM\\nVelasquez, JA\\nValencia, CM\\nBern...   \n",
              "1  Burwick, RM\\nVelasquez, JA\\nValencia, CM\\nSilv...   \n",
              "\n",
              "                                                  C1 CR            DA DE DI  \\\n",
              "0  [Burwick, Richard M.; Tolosa, Jorge E.] Oregon...     2018-02-15\\n         \n",
              "1  [Burwick, Richard M.; Rincon, Monica; Tolosa, ...     2018-02-15\\n         \n",
              "\n",
              "                   DT ...  SI                        SP PM OA RI     MA   SU  \\\n",
              "0  Meeting Abstract\\n ...      Soc Maternal Fetal Med\\n           306\\n  S\\n   \n",
              "1  Meeting Abstract\\n ...      Soc Maternal Fetal Med\\n           305\\n  S\\n   \n",
              "\n",
              "  PN CA Tipo  \n",
              "0        WOS  \n",
              "1        WOS  \n",
              "\n",
              "[2 rows x 56 columns]"
            ]
          },
          "metadata": {
            "tags": []
          },
          "execution_count": 25
        }
      ]
    }
  ]
}